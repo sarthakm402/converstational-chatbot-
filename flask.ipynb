{
    "cells": [
        {
            "cell_type": "code",
            "execution_count": 3,
            "metadata": {},
            "outputs": [
                {
                    "name": "stderr",
                    "output_type": "stream",
                    "text": [
                        "c:\\Users\\sarthak mohapatra\\anaconda3\\envs\\sarthak\\Lib\\site-packages\\tqdm\\auto.py:21: TqdmWarning: IProgress not found. Please update jupyter and ipywidgets. See https://ipywidgets.readthedocs.io/en/stable/user_install.html\n",
                        "  from .autonotebook import tqdm as notebook_tqdm\n"
                    ]
                }
            ],
            "source": [
                "from flask import Flask, request, render_template\n",
                "from transformers import pipeline,Conversation"
            ]
        },
        {
            "cell_type": "code",
            "execution_count": 4,
            "metadata": {},
            "outputs": [],
            "source": [
                "# app=Flask(__name__)\n",
                "# @app.route('/',method=['POST'])\n",
                "# def hello_world():\n",
                "#     return 'Hello, World!'\n",
                "# if __name__=='__main__':\n",
                "#     app.run()"
            ]
        },
        {
            "cell_type": "code",
            "execution_count": 5,
            "metadata": {},
            "outputs": [
                {
                    "name": "stdout",
                    "output_type": "stream",
                    "text": [
                        "WARNING:tensorflow:From c:\\Users\\sarthak mohapatra\\anaconda3\\envs\\sarthak\\Lib\\site-packages\\tf_keras\\src\\losses.py:2976: The name tf.losses.sparse_softmax_cross_entropy is deprecated. Please use tf.compat.v1.losses.sparse_softmax_cross_entropy instead.\n",
                        "\n"
                    ]
                }
            ],
            "source": [
                "model=pipeline(model='facebook/blenderbot-400M-distill')"
            ]
        },
        {
            "cell_type": "code",
            "execution_count": 7,
            "metadata": {},
            "outputs": [
                {
                    "name": "stdout",
                    "output_type": "stream",
                    "text": [
                        " * Serving Flask app '__main__'\n",
                        " * Debug mode: off\n"
                    ]
                },
                {
                    "name": "stderr",
                    "output_type": "stream",
                    "text": [
                        "WARNING: This is a development server. Do not use it in a production deployment. Use a production WSGI server instead.\n",
                        " * Running on http://127.0.0.1:5000\n",
                        "Press CTRL+C to quit\n",
                        "127.0.0.1 - - [18/Jul/2024 21:38:01] \"GET / HTTP/1.1\" 200 -\n",
                        "127.0.0.1 - - [18/Jul/2024 21:38:10] \"POST / HTTP/1.1\" 200 -\n",
                        "127.0.0.1 - - [18/Jul/2024 21:38:28] \"POST / HTTP/1.1\" 200 -\n",
                        "127.0.0.1 - - [18/Jul/2024 21:38:50] \"POST / HTTP/1.1\" 200 -\n",
                        "127.0.0.1 - - [18/Jul/2024 21:39:04] \"POST / HTTP/1.1\" 200 -\n"
                    ]
                }
            ],
            "source": [
                "history = []\n",
                "response_hist = []\n",
                "app = Flask(__name__)\n",
                "\n",
                "@app.route('/', methods=['POST', 'GET'])\n",
                "def chat():\n",
                "    global history, response_hist\n",
                "    if request.method == \"POST\":\n",
                "        user_message = request.form[\"message\"]\n",
                "        history.append(user_message)\n",
                "\n",
                "        conversation = Conversation(\n",
                "            messages=history,  \n",
                "            past_user_inputs=history,  \n",
                "            generated_responses=response_hist if history else None \n",
                "        )\n",
                "        \n",
                "        output_txt = model(user_message)\n",
                "        response_hist.append(output_txt)\n",
                "        \n",
                "        return render_template('indexbot.html', history=history, response_hist=response_hist)\n",
                "    \n",
                "    return render_template('indexbot.html', history=history, response_hist=response_hist)\n",
                "\n",
                "if __name__ == '__main__':\n",
                "    app.run()\n",
                "\n"
            ]
        }
    ],
    "metadata": {
        "kernelspec": {
            "display_name": "sarthak",
            "language": "python",
            "name": "python3"
        },
        "language_info": {
            "codemirror_mode": {
                "name": "ipython",
                "version": 3
            },
            "file_extension": ".py",
            "mimetype": "text/x-python",
            "name": "python",
            "nbconvert_exporter": "python",
            "pygments_lexer": "ipython3",
            "version": "3.11.8"
        }
    },
    "nbformat": 4,
    "nbformat_minor": 2
}
